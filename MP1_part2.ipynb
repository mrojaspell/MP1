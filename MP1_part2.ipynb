{
 "cells": [
  {
   "cell_type": "code",
   "execution_count": 1,
   "metadata": {},
   "outputs": [],
   "source": [
    "import pandas as pd\n",
    "import numpy as np\n",
    "import matplotlib.pyplot as plt"
   ]
  },
  {
   "cell_type": "code",
   "execution_count": 4,
   "metadata": {},
   "outputs": [
    {
     "name": "stdout",
     "output_type": "stream",
     "text": [
      "(1024, 7)\n"
     ]
    },
    {
     "data": {
      "text/html": [
       "<div>\n",
       "<style scoped>\n",
       "    .dataframe tbody tr th:only-of-type {\n",
       "        vertical-align: middle;\n",
       "    }\n",
       "\n",
       "    .dataframe tbody tr th {\n",
       "        vertical-align: top;\n",
       "    }\n",
       "\n",
       "    .dataframe thead th {\n",
       "        text-align: right;\n",
       "    }\n",
       "</style>\n",
       "<table border=\"1\" class=\"dataframe\">\n",
       "  <thead>\n",
       "    <tr style=\"text-align: right;\">\n",
       "      <th></th>\n",
       "      <th>Month</th>\n",
       "      <th>Car</th>\n",
       "      <th>Location</th>\n",
       "      <th>Weather</th>\n",
       "      <th>TypeOfTrigger</th>\n",
       "      <th>ReactionTime</th>\n",
       "      <th>Cause</th>\n",
       "    </tr>\n",
       "  </thead>\n",
       "  <tbody>\n",
       "    <tr>\n",
       "      <th>0</th>\n",
       "      <td>14-Sep</td>\n",
       "      <td>WDD2221851A001072</td>\n",
       "      <td>urban-street</td>\n",
       "      <td>cloudy</td>\n",
       "      <td>automatic</td>\n",
       "      <td>0.58</td>\n",
       "      <td>Incorrect Traffic Light Detection</td>\n",
       "    </tr>\n",
       "    <tr>\n",
       "      <th>1</th>\n",
       "      <td>14-Sep</td>\n",
       "      <td>WDD2221851A001072</td>\n",
       "      <td>urban-street</td>\n",
       "      <td>cloudy</td>\n",
       "      <td>automatic</td>\n",
       "      <td>0.66</td>\n",
       "      <td>Adverse road surface conditions</td>\n",
       "    </tr>\n",
       "    <tr>\n",
       "      <th>2</th>\n",
       "      <td>14-Sep</td>\n",
       "      <td>WDD2221851A001072</td>\n",
       "      <td>urban-street</td>\n",
       "      <td>cloudy</td>\n",
       "      <td>automatic</td>\n",
       "      <td>1.93</td>\n",
       "      <td>Position Estimation Failure</td>\n",
       "    </tr>\n",
       "    <tr>\n",
       "      <th>3</th>\n",
       "      <td>14-Sep</td>\n",
       "      <td>WDD2221851A001072</td>\n",
       "      <td>urban-street</td>\n",
       "      <td>cloudy</td>\n",
       "      <td>automatic</td>\n",
       "      <td>0.65</td>\n",
       "      <td>Emergency Vehicle</td>\n",
       "    </tr>\n",
       "    <tr>\n",
       "      <th>4</th>\n",
       "      <td>14-Sep</td>\n",
       "      <td>WDD2221851A001072</td>\n",
       "      <td>urban-street</td>\n",
       "      <td>cloudy</td>\n",
       "      <td>automatic</td>\n",
       "      <td>0.64</td>\n",
       "      <td>Adverse road surface conditions</td>\n",
       "    </tr>\n",
       "  </tbody>\n",
       "</table>\n",
       "</div>"
      ],
      "text/plain": [
       "    Month                Car      Location Weather TypeOfTrigger  \\\n",
       "0  14-Sep  WDD2221851A001072  urban-street  cloudy     automatic   \n",
       "1  14-Sep  WDD2221851A001072  urban-street  cloudy     automatic   \n",
       "2  14-Sep  WDD2221851A001072  urban-street  cloudy     automatic   \n",
       "3  14-Sep  WDD2221851A001072  urban-street  cloudy     automatic   \n",
       "4  14-Sep  WDD2221851A001072  urban-street  cloudy     automatic   \n",
       "\n",
       "   ReactionTime                              Cause  \n",
       "0          0.58  Incorrect Traffic Light Detection  \n",
       "1          0.66    Adverse road surface conditions  \n",
       "2          1.93        Position Estimation Failure  \n",
       "3          0.65                  Emergency Vehicle  \n",
       "4          0.64    Adverse road surface conditions  "
      ]
     },
     "execution_count": 4,
     "metadata": {},
     "output_type": "execute_result"
    }
   ],
   "source": [
    "av_data = pd.read_csv(\"Data Part2/mp1_av_disengagements.csv\")\n",
    "print(av_data.shape)\n",
    "av_data.head()"
   ]
  },
  {
   "cell_type": "markdown",
   "metadata": {},
   "source": [
    "## Task 3"
   ]
  },
  {
   "cell_type": "markdown",
   "metadata": {},
   "source": [
    "Given below are some assumptions that you will need to do the analysis for this task.\n",
    "1. There can be at most one disengagement per mile.\n",
    "2. The total amount of miles driven by all the AVs in the dataset is 505229 miles.\n",
    "3. A day can be either clear or cloudy, but not both. The probability of a day being\n",
    "clear in California is 72% [7].\n",
    "4. The AV is equally likely to drive on a cloudy day as on a clear day\n",
    "<br>\n",
    "<br>\n",
    "__________________________________________________\n",
    "<br>\n",
    "\n",
    "**1. Based on the above assumptions, answer the following questions on basic probability. (6 points)**\n",
    "\n",
    ">**a. The assumption of at most one disengagement per mile allows us to treat\n",
    "the occurrence of a disengagement in a mile as a random variable with a\n",
    "__ __BERNOULLI__ __ distribution**"
   ]
  },
  {
   "cell_type": "markdown",
   "metadata": {},
   "source": [
    ">**b. Based on the above assumptions, calculate the probability of\n",
    "disengagement per mile on a cloudy day. (1 point)**"
   ]
  },
  {
   "cell_type": "code",
   "execution_count": 10,
   "metadata": {},
   "outputs": [
    {
     "name": "stdout",
     "output_type": "stream",
     "text": [
      "Probability of Disengagement Per Mile:  0.002026803687040926\n",
      "Probability of Disengagement Per Mile on a Cloudy Day:  0.00590255677552725\n"
     ]
    }
   ],
   "source": [
    "## 1024 disengagements / 505229 miles\n",
    "p_disengagement = 1024/505229\n",
    "p_cloudy_given_disengagement = av_data[av_data['Weather']=='cloudy'].shape[0] / 1024\n",
    "\n",
    "## P(Disengagement | Cloudy) = P(Cloudy | Disengagement) * P(Disengagement) / P(Cloudy)\n",
    "p_disengagement_given_cloudy = (p_cloudy_given_disengagement*p_disengagement)/(1-0.72)\n",
    "print(\"Probability of Disengagement Per Mile: \",p_disengagement)\n",
    "print(\"Probability of Disengagement Per Mile on a Cloudy Day: \",p_disengagement_given_cloudy)"
   ]
  },
  {
   "cell_type": "markdown",
   "metadata": {},
   "source": [
    ">**c. Based on the above assumptions, calculate the probability of\n",
    "disengagement per mile on a clear day. (1 point)**"
   ]
  },
  {
   "cell_type": "code",
   "execution_count": 11,
   "metadata": {},
   "outputs": [
    {
     "name": "stdout",
     "output_type": "stream",
     "text": [
      "Probability of Disengagement Per Mile on a Clear Day:  0.0005195663748517999\n"
     ]
    }
   ],
   "source": [
    "p_clear_given_disengagement = av_data[av_data['Weather']=='clear'].shape[0] / 1024\n",
    "\n",
    "p_disengagement_given_clear = (p_clear_given_disengagement*p_disengagement)/(0.72)\n",
    "print(\"Probability of Disengagement Per Mile on a Clear Day: \",p_disengagement_given_clear)"
   ]
  },
  {
   "cell_type": "markdown",
   "metadata": {},
   "source": [
    ">**d. Similarly, calculate the probability of an automatic disengagement per mile\n",
    "on a cloudy day, and the probability of an automatic disengagement per mile on a\n",
    "clear day. (1 point)**"
   ]
  },
  {
   "cell_type": "code",
   "execution_count": 13,
   "metadata": {},
   "outputs": [
    {
     "name": "stdout",
     "output_type": "stream",
     "text": [
      "Probability of Automatic Disengagement Per Mile:  0.0009757951344835708\n",
      "Probability of Automatic Disengagement Per Mile on Cloudy Day:  0.0028063653172267283\n",
      "Probability of Automatic Disengagement Per Mile on Cloudy Day:  0.00026390673008345393\n"
     ]
    }
   ],
   "source": [
    "automatic_disengagements = av_data[av_data['TypeOfTrigger']=='automatic']\n",
    "\n",
    "p_automatic_disengagement = automatic_disengagements.shape[0] / 505229\n",
    "p_cloudy_given_automatic_disengagement = automatic_disengagements[automatic_disengagements['Weather']=='cloudy'].shape[0]/  \\\n",
    "                                            automatic_disengagements.shape[0]\n",
    "p_clear_given_automatic_disengagement = automatic_disengagements[automatic_disengagements['Weather']=='clear'].shape[0]/  \\\n",
    "                                            automatic_disengagements.shape[0]\n",
    "                                            \n",
    "p_automatic_disengagement_given_cloudy = (p_cloudy_given_automatic_disengagement*p_automatic_disengagement)/(1-0.72)\n",
    "p_automatic_disengagement_given_clear = (p_clear_given_automatic_disengagement*p_automatic_disengagement)/(0.72)\n",
    "\n",
    "print(\"Probability of Automatic Disengagement Per Mile: \",p_automatic_disengagement)\n",
    "print(\"Probability of Automatic Disengagement Per Mile on Cloudy Day: \",p_automatic_disengagement_given_cloudy)\n",
    "print(\"Probability of Automatic Disengagement Per Mile on Cloudy Day: \",p_automatic_disengagement_given_clear)"
   ]
  },
  {
   "cell_type": "markdown",
   "metadata": {},
   "source": [
    ">**e. How likely is it that there are 100 or more disengagements in 10,000 miles\n",
    "under cloudy conditions? (hint: use Central Limit Theorem) (2 points)**"
   ]
  },
  {
   "cell_type": "code",
   "execution_count": 14,
   "metadata": {},
   "outputs": [],
   "source": [
    "import scipy"
   ]
  },
  {
   "cell_type": "markdown",
   "metadata": {},
   "source": [
    "Given Random variable $X_i$ ~ Bernoulli($p = 0.0059$), we know that as $n \\rightarrow \\infty$:\n",
    "\n",
    "$P(\\frac{\\sum{X_i} - n\\mu}{\\sigma\\sqrt{n}} \\leq a) = \\frac{1}{\\sqrt{2\\pi}} \\int_{-\\infty}^{a} e^{\\frac{-x^2}{2}} dx$ \n",
    "\n",
    "We want: $P(X_1 + ... + X_{10000} \\geq 100) = 1 - P(X_1 + ... + X_{10000} < 99)$\n",
    "\n",
    "To achieve the form above, have that: $\\sum(X_i) <= (\\sigma\\sqrt{n})a + n\\mu = 99$ \n",
    "\n",
    "With $n=10000, \\ \\mu = p = 0.0059, \\ \\sigma = \\sqrt{p(1-p)} = 0.0766$"
   ]
  },
  {
   "cell_type": "code",
   "execution_count": 38,
   "metadata": {},
   "outputs": [],
   "source": [
    "import scipy.integrate"
   ]
  },
  {
   "cell_type": "code",
   "execution_count": 61,
   "metadata": {},
   "outputs": [
    {
     "name": "stdout",
     "output_type": "stream",
     "text": [
      "a = 5.221932114882507\n",
      "Probability of 100 or more disengagements in 10000 miles = 0.0\n"
     ]
    }
   ],
   "source": [
    "n = 10000\n",
    "p = 0.0059\n",
    "sigma = 0.0766\n",
    "\n",
    "A = (99 - (n*p))/(sigma*np.sqrt(n))\n",
    "print(\"a =\",A)\n",
    "\n",
    "prob = 1 - ( (1/np.sqrt(2*np.pi)) * scipy.integrate.quad(func=lambda x: np.exp((x**2)/-2),\n",
    "                                                  a=-np.inf,b=A)[0] )\n",
    "print(\"Probability of 100 or more disengagements in 10000 miles =\",round(prob,3))"
   ]
  },
  {
   "cell_type": "markdown",
   "metadata": {},
   "source": [
    "**2. Assuming that the disengagement per mile is a random variable with the\n",
    "distribution you answered in Task 3.1.a, and the weather condition is cloudy. (6\n",
    "points)**\n",
    "\n",
    ">**a. What is the distribution of “the number of miles until the next\n",
    "disengagement”? Explain your reasoning. Calculate and state the values of the\n",
    "parameters of the distribution. (1 points)**\n",
    "\n",
    ">**b. What is the distribution of “the number of disengagements in 10,000 miles”?\n",
    "(hint: this is equivalent to drawing n=10,000 independent trials from the\n",
    "distribution of disengagement per mile you calculated from Task 3.1.a). Calculate\n",
    "and state the values of the parameters of the distribution. (1 points)**\n",
    "\n",
    ">**c. Notice that the number of disengagements “𝒏\" in Task 3.2.b is large while\n",
    "the probability of disengagement per mile \"𝒑\" is very small, what distribution does\n",
    "your answer in Task 3.2.b approximate? Calculate and state the values of the\n",
    "parameters of the distribution. (1 points)**\n",
    "\n",
    ">**d. Plot the probability mass function (PMF) of the distribution in Task 3.2.b and\n",
    "Task 3.2.c for: 1 - The x-axis ranging between 0 and 10000. 2 - The x-axis ranging between 0 and 100.\n",
    "Describe the plots and discuss your findings. (2 points)**\n",
    "\n",
    ">**e. Solve Task 3.1.e by using the cumulative distribution function (CDF) of the\n",
    "distribution you computed in Task 3.2.c and compare the results. Discuss your\n",
    "findings. (1 points)**"
   ]
  },
  {
   "cell_type": "code",
   "execution_count": null,
   "metadata": {},
   "outputs": [],
   "source": []
  },
  {
   "cell_type": "code",
   "execution_count": null,
   "metadata": {},
   "outputs": [],
   "source": []
  },
  {
   "cell_type": "code",
   "execution_count": null,
   "metadata": {},
   "outputs": [],
   "source": []
  },
  {
   "cell_type": "code",
   "execution_count": null,
   "metadata": {},
   "outputs": [],
   "source": []
  },
  {
   "cell_type": "code",
   "execution_count": null,
   "metadata": {},
   "outputs": [],
   "source": []
  },
  {
   "cell_type": "code",
   "execution_count": null,
   "metadata": {},
   "outputs": [],
   "source": []
  },
  {
   "cell_type": "code",
   "execution_count": null,
   "metadata": {},
   "outputs": [],
   "source": []
  },
  {
   "cell_type": "code",
   "execution_count": null,
   "metadata": {},
   "outputs": [],
   "source": []
  },
  {
   "cell_type": "code",
   "execution_count": null,
   "metadata": {},
   "outputs": [],
   "source": []
  },
  {
   "cell_type": "code",
   "execution_count": null,
   "metadata": {},
   "outputs": [],
   "source": []
  },
  {
   "cell_type": "code",
   "execution_count": null,
   "metadata": {},
   "outputs": [],
   "source": []
  },
  {
   "cell_type": "code",
   "execution_count": null,
   "metadata": {},
   "outputs": [],
   "source": []
  },
  {
   "cell_type": "code",
   "execution_count": null,
   "metadata": {},
   "outputs": [],
   "source": []
  },
  {
   "cell_type": "code",
   "execution_count": null,
   "metadata": {},
   "outputs": [],
   "source": []
  },
  {
   "cell_type": "code",
   "execution_count": null,
   "metadata": {},
   "outputs": [],
   "source": []
  },
  {
   "cell_type": "code",
   "execution_count": null,
   "metadata": {},
   "outputs": [],
   "source": []
  },
  {
   "cell_type": "code",
   "execution_count": null,
   "metadata": {},
   "outputs": [],
   "source": []
  },
  {
   "cell_type": "code",
   "execution_count": null,
   "metadata": {},
   "outputs": [],
   "source": []
  },
  {
   "cell_type": "code",
   "execution_count": null,
   "metadata": {},
   "outputs": [],
   "source": []
  },
  {
   "cell_type": "code",
   "execution_count": null,
   "metadata": {},
   "outputs": [],
   "source": []
  },
  {
   "cell_type": "code",
   "execution_count": null,
   "metadata": {},
   "outputs": [],
   "source": []
  },
  {
   "cell_type": "code",
   "execution_count": null,
   "metadata": {},
   "outputs": [],
   "source": []
  },
  {
   "cell_type": "code",
   "execution_count": null,
   "metadata": {},
   "outputs": [],
   "source": []
  }
 ],
 "metadata": {
  "kernelspec": {
   "display_name": "Python 3",
   "language": "python",
   "name": "python3"
  },
  "language_info": {
   "codemirror_mode": {
    "name": "ipython",
    "version": 3
   },
   "file_extension": ".py",
   "mimetype": "text/x-python",
   "name": "python",
   "nbconvert_exporter": "python",
   "pygments_lexer": "ipython3",
   "version": "3.11.1"
  }
 },
 "nbformat": 4,
 "nbformat_minor": 2
}
