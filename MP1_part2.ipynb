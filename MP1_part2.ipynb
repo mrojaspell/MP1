{
 "cells": [
  {
   "cell_type": "code",
   "execution_count": 132,
   "metadata": {},
   "outputs": [],
   "source": [
    "import pandas as pd\n",
    "import numpy as np\n",
    "import matplotlib.pyplot as plt\n",
    "import networkx as nx"
   ]
  },
  {
   "cell_type": "code",
   "execution_count": 133,
   "metadata": {},
   "outputs": [
    {
     "name": "stdout",
     "output_type": "stream",
     "text": [
      "(1024, 7)\n"
     ]
    },
    {
     "data": {
      "text/html": [
       "<div>\n",
       "<style scoped>\n",
       "    .dataframe tbody tr th:only-of-type {\n",
       "        vertical-align: middle;\n",
       "    }\n",
       "\n",
       "    .dataframe tbody tr th {\n",
       "        vertical-align: top;\n",
       "    }\n",
       "\n",
       "    .dataframe thead th {\n",
       "        text-align: right;\n",
       "    }\n",
       "</style>\n",
       "<table border=\"1\" class=\"dataframe\">\n",
       "  <thead>\n",
       "    <tr style=\"text-align: right;\">\n",
       "      <th></th>\n",
       "      <th>Month</th>\n",
       "      <th>Car</th>\n",
       "      <th>Location</th>\n",
       "      <th>Weather</th>\n",
       "      <th>TypeOfTrigger</th>\n",
       "      <th>ReactionTime</th>\n",
       "      <th>Cause</th>\n",
       "    </tr>\n",
       "  </thead>\n",
       "  <tbody>\n",
       "    <tr>\n",
       "      <th>0</th>\n",
       "      <td>14-Sep</td>\n",
       "      <td>WDD2221851A001072</td>\n",
       "      <td>urban-street</td>\n",
       "      <td>cloudy</td>\n",
       "      <td>automatic</td>\n",
       "      <td>0.58</td>\n",
       "      <td>Incorrect Traffic Light Detection</td>\n",
       "    </tr>\n",
       "    <tr>\n",
       "      <th>1</th>\n",
       "      <td>14-Sep</td>\n",
       "      <td>WDD2221851A001072</td>\n",
       "      <td>urban-street</td>\n",
       "      <td>cloudy</td>\n",
       "      <td>automatic</td>\n",
       "      <td>0.66</td>\n",
       "      <td>Adverse road surface conditions</td>\n",
       "    </tr>\n",
       "    <tr>\n",
       "      <th>2</th>\n",
       "      <td>14-Sep</td>\n",
       "      <td>WDD2221851A001072</td>\n",
       "      <td>urban-street</td>\n",
       "      <td>cloudy</td>\n",
       "      <td>automatic</td>\n",
       "      <td>1.93</td>\n",
       "      <td>Position Estimation Failure</td>\n",
       "    </tr>\n",
       "    <tr>\n",
       "      <th>3</th>\n",
       "      <td>14-Sep</td>\n",
       "      <td>WDD2221851A001072</td>\n",
       "      <td>urban-street</td>\n",
       "      <td>cloudy</td>\n",
       "      <td>automatic</td>\n",
       "      <td>0.65</td>\n",
       "      <td>Emergency Vehicle</td>\n",
       "    </tr>\n",
       "    <tr>\n",
       "      <th>4</th>\n",
       "      <td>14-Sep</td>\n",
       "      <td>WDD2221851A001072</td>\n",
       "      <td>urban-street</td>\n",
       "      <td>cloudy</td>\n",
       "      <td>automatic</td>\n",
       "      <td>0.64</td>\n",
       "      <td>Adverse road surface conditions</td>\n",
       "    </tr>\n",
       "  </tbody>\n",
       "</table>\n",
       "</div>"
      ],
      "text/plain": [
       "    Month                Car      Location Weather TypeOfTrigger  \\\n",
       "0  14-Sep  WDD2221851A001072  urban-street  cloudy     automatic   \n",
       "1  14-Sep  WDD2221851A001072  urban-street  cloudy     automatic   \n",
       "2  14-Sep  WDD2221851A001072  urban-street  cloudy     automatic   \n",
       "3  14-Sep  WDD2221851A001072  urban-street  cloudy     automatic   \n",
       "4  14-Sep  WDD2221851A001072  urban-street  cloudy     automatic   \n",
       "\n",
       "   ReactionTime                              Cause  \n",
       "0          0.58  Incorrect Traffic Light Detection  \n",
       "1          0.66    Adverse road surface conditions  \n",
       "2          1.93        Position Estimation Failure  \n",
       "3          0.65                  Emergency Vehicle  \n",
       "4          0.64    Adverse road surface conditions  "
      ]
     },
     "execution_count": 133,
     "metadata": {},
     "output_type": "execute_result"
    }
   ],
   "source": [
    "av_data = pd.read_csv(\"Data Part2/mp1_av_disengagements.csv\")\n",
    "print(av_data.shape)\n",
    "av_data.head()"
   ]
  },
  {
   "cell_type": "markdown",
   "metadata": {},
   "source": [
    "## Task 3"
   ]
  },
  {
   "cell_type": "markdown",
   "metadata": {},
   "source": [
    "Given below are some assumptions that you will need to do the analysis for this task.\n",
    "1. There can be at most one disengagement per mile.\n",
    "2. The total amount of miles driven by all the AVs in the dataset is 505229 miles.\n",
    "3. A day can be either clear or cloudy, but not both. The probability of a day being\n",
    "clear in California is 72% [7].\n",
    "4. The AV is equally likely to drive on a cloudy day as on a clear day\n",
    "<br>\n",
    "<br>\n",
    "__________________________________________________\n",
    "<br>\n",
    "\n",
    "**1. Based on the above assumptions, answer the following questions on basic probability. (6 points)**\n",
    "\n",
    ">**a. The assumption of at most one disengagement per mile allows us to treat\n",
    "the occurrence of a disengagement in a mile as a random variable with a\n",
    "__ __BERNOULLI__ __ distribution**"
   ]
  },
  {
   "cell_type": "markdown",
   "metadata": {},
   "source": [
    ">**b. Based on the above assumptions, calculate the probability of\n",
    "disengagement per mile on a cloudy day. (1 point)**"
   ]
  },
  {
   "cell_type": "code",
   "execution_count": 134,
   "metadata": {},
   "outputs": [
    {
     "name": "stdout",
     "output_type": "stream",
     "text": [
      "Probability of Disengagement Per Mile:  0.002026803687040926\n",
      "Probability of Disengagement Per Mile on a Cloudy Day:  0.00590255677552725\n"
     ]
    }
   ],
   "source": [
    "## 1024 disengagements / 505229 miles\n",
    "p_disengagement = 1024/505229\n",
    "p_cloudy_given_disengagement = av_data[av_data['Weather']=='cloudy'].shape[0] / 1024\n",
    "\n",
    "## P(Disengagement | Cloudy) = P(Cloudy | Disengagement) * P(Disengagement) / P(Cloudy)\n",
    "p_disengagement_given_cloudy = (p_cloudy_given_disengagement*p_disengagement)/(1-0.72)\n",
    "print(\"Probability of Disengagement Per Mile: \",p_disengagement)\n",
    "print(\"Probability of Disengagement Per Mile on a Cloudy Day: \",p_disengagement_given_cloudy)"
   ]
  },
  {
   "cell_type": "markdown",
   "metadata": {},
   "source": [
    ">**c. Based on the above assumptions, calculate the probability of\n",
    "disengagement per mile on a clear day. (1 point)**"
   ]
  },
  {
   "cell_type": "code",
   "execution_count": 135,
   "metadata": {},
   "outputs": [
    {
     "name": "stdout",
     "output_type": "stream",
     "text": [
      "Probability of Disengagement Per Mile on a Clear Day:  0.0005195663748517999\n"
     ]
    }
   ],
   "source": [
    "p_clear_given_disengagement = av_data[av_data['Weather']=='clear'].shape[0] / 1024\n",
    "\n",
    "p_disengagement_given_clear = (p_clear_given_disengagement*p_disengagement)/(0.72)\n",
    "print(\"Probability of Disengagement Per Mile on a Clear Day: \",p_disengagement_given_clear)"
   ]
  },
  {
   "cell_type": "markdown",
   "metadata": {},
   "source": [
    ">**d. Similarly, calculate the probability of an automatic disengagement per mile\n",
    "on a cloudy day, and the probability of an automatic disengagement per mile on a\n",
    "clear day. (1 point)**"
   ]
  },
  {
   "cell_type": "code",
   "execution_count": 136,
   "metadata": {},
   "outputs": [
    {
     "name": "stdout",
     "output_type": "stream",
     "text": [
      "Probability of Automatic Disengagement Per Mile:  0.0009757951344835708\n",
      "Probability of Automatic Disengagement Per Mile on Cloudy Day:  0.0028063653172267283\n",
      "Probability of Automatic Disengagement Per Mile on Cloudy Day:  0.00026390673008345393\n"
     ]
    }
   ],
   "source": [
    "automatic_disengagements = av_data[av_data['TypeOfTrigger']=='automatic']\n",
    "\n",
    "p_automatic_disengagement = automatic_disengagements.shape[0] / 505229\n",
    "p_cloudy_given_automatic_disengagement = automatic_disengagements[automatic_disengagements['Weather']=='cloudy'].shape[0]/  \\\n",
    "                                            automatic_disengagements.shape[0]\n",
    "p_clear_given_automatic_disengagement = automatic_disengagements[automatic_disengagements['Weather']=='clear'].shape[0]/  \\\n",
    "                                            automatic_disengagements.shape[0]\n",
    "                                            \n",
    "p_automatic_disengagement_given_cloudy = (p_cloudy_given_automatic_disengagement*p_automatic_disengagement)/(1-0.72)\n",
    "p_automatic_disengagement_given_clear = (p_clear_given_automatic_disengagement*p_automatic_disengagement)/(0.72)\n",
    "\n",
    "print(\"Probability of Automatic Disengagement Per Mile: \",p_automatic_disengagement)\n",
    "print(\"Probability of Automatic Disengagement Per Mile on Cloudy Day: \",p_automatic_disengagement_given_cloudy)\n",
    "print(\"Probability of Automatic Disengagement Per Mile on Cloudy Day: \",p_automatic_disengagement_given_clear)"
   ]
  },
  {
   "cell_type": "markdown",
   "metadata": {},
   "source": [
    ">**e. How likely is it that there are 100 or more disengagements in 10,000 miles\n",
    "under cloudy conditions? (hint: use Central Limit Theorem) (2 points)**"
   ]
  },
  {
   "cell_type": "code",
   "execution_count": 137,
   "metadata": {},
   "outputs": [],
   "source": [
    "import scipy"
   ]
  },
  {
   "cell_type": "markdown",
   "metadata": {},
   "source": [
    "Given Random variable $X_i$ ~ Bernoulli($p = 0.0059$), we know that as $n \\rightarrow \\infty$:\n",
    "\n",
    "$P(\\frac{\\sum{X_i} - n\\mu}{\\sigma\\sqrt{n}} \\leq a) = \\frac{1}{\\sqrt{2\\pi}} \\int_{-\\infty}^{a} e^{\\frac{-x^2}{2}} dx$ \n",
    "\n",
    "We want: $P(X_1 + ... + X_{10000} \\geq 100) = 1 - P(X_1 + ... + X_{10000} \\leq 99)$\n",
    "\n",
    "To achieve the form above, have that: $\\sum(X_i) \\leq (\\sigma\\sqrt{n})a + n\\mu = 99$ \n",
    "\n",
    "With $n=10000, \\ \\mu = p = 0.0059, \\ \\sigma = \\sqrt{p(1-p)} = 0.0766$"
   ]
  },
  {
   "cell_type": "code",
   "execution_count": 138,
   "metadata": {},
   "outputs": [
    {
     "name": "stdout",
     "output_type": "stream",
     "text": [
      "a = 5.221932114882507\n",
      "Probability of 100 or more disengagements in 10000 miles = 8.85e-08\n"
     ]
    }
   ],
   "source": [
    "n = 10000\n",
    "p = 0.0059\n",
    "sigma = 0.0766\n",
    "\n",
    "A = (99 - (n*p))/(sigma*np.sqrt(n))\n",
    "print(\"a =\",A)\n",
    "\n",
    "prob = 1 - ( (1/np.sqrt(2*np.pi)) * scipy.integrate.quad(func=lambda x: np.exp((x**2)/-2),\n",
    "                                                  a=-np.inf,b=A)[0] )\n",
    "print(\"Probability of 100 or more disengagements in 10000 miles =\",round(prob,10))"
   ]
  },
  {
   "cell_type": "markdown",
   "metadata": {},
   "source": [
    "**2. Assuming that the disengagement per mile is a random variable with the\n",
    "distribution you answered in Task 3.1.a, and the weather condition is cloudy. (6\n",
    "points)**"
   ]
  },
  {
   "cell_type": "markdown",
   "metadata": {},
   "source": [
    "Disengagement per mile $X$ ~ Bernoulli $(p=0.0059)$"
   ]
  },
  {
   "cell_type": "markdown",
   "metadata": {},
   "source": [
    ">**a. What is the distribution of “the number of miles until the next\n",
    "disengagement”? Explain your reasoning. Calculate and state the values of the\n",
    "parameters of the distribution. (1 points)**"
   ]
  },
  {
   "cell_type": "markdown",
   "metadata": {},
   "source": [
    "This would follow a geometric distribution, as this distribution captures the waiting time until the first occurance of an event -- in this case, a disengagement. Our 'waiting time' in this scenario is miles driven. After each occurance, we 'reset' with a new random variable, so that our random variable always represents the time before the first disengagement in its lifetime. \n",
    "\n",
    "$X$ ~ Geom $(p=0.0059)$\n",
    "\n",
    "$\\mu = \\frac{1}{p} = 169.4915$\n",
    "\n",
    "$\\sigma = \\sqrt{\\frac{1-p}{p^2}} = 168.9908$"
   ]
  },
  {
   "cell_type": "markdown",
   "metadata": {},
   "source": [
    ">**b. What is the distribution of “the number of disengagements in 10,000 miles”?\n",
    "(hint: this is equivalent to drawing n=10,000 independent trials from the\n",
    "distribution of disengagement per mile you calculated from Task 3.1.a). Calculate\n",
    "and state the values of the parameters of the distribution. (1 points)**"
   ]
  },
  {
   "cell_type": "markdown",
   "metadata": {},
   "source": [
    "This would follow a binomial distribution, as it is simply a yes/no decision, but with $n=10000$ trials. \n",
    "\n",
    "$X$ ~ Binom $(n=10000,p=0.0059)$"
   ]
  },
  {
   "cell_type": "markdown",
   "metadata": {},
   "source": [
    ">**c. Notice that the number of disengagements “𝒏\" in Task 3.2.b is large while\n",
    "the probability of disengagement per mile \"𝒑\" is very small, what distribution does\n",
    "your answer in Task 3.2.b approximate? Calculate and state the values of the\n",
    "parameters of the distribution. (1 points)**"
   ]
  },
  {
   "cell_type": "markdown",
   "metadata": {},
   "source": [
    "This would approximate a Poisson distribution where $\\lambda = np = 59$"
   ]
  },
  {
   "cell_type": "markdown",
   "metadata": {},
   "source": [
    ">**d. Plot the probability mass function (PMF) of the distribution in Task 3.2.b and\n",
    "Task 3.2.c for: 1 - The x-axis ranging between 0 and 10000. 2 - The x-axis ranging between 0 and 100.\n",
    "Describe the plots and discuss your findings. (2 points)**"
   ]
  },
  {
   "cell_type": "code",
   "execution_count": 139,
   "metadata": {},
   "outputs": [
    {
     "data": {
      "image/png": "[encoded data removed]",
      "text/plain": [
       "<Figure size 2400x1500 with 4 Axes>"
      ]
     },
     "metadata": {},
     "output_type": "display_data"
    }
   ],
   "source": [
    "## 1\n",
    "n = 10000\n",
    "p = 0.0059\n",
    "lam = 59\n",
    "\n",
    "x = np.arange(0,n+1,1)\n",
    "y_binom = scipy.stats.binom.pmf(x,n,p)\n",
    "y_pois = scipy.stats.poisson.pmf(x,lam)\n",
    "\n",
    "fig, axs = plt.subplots(2, 2, figsize=(24,15))\n",
    "\n",
    "axs[0][0].plot(x, y_binom, 'blue', ms=2)\n",
    "axs[0][0].set_title('Binomial -- X-Range to 10000')\n",
    "axs[0][0].set_xlim(0,10000)\n",
    "axs[0][0].set_xlabel('RV Value')\n",
    "axs[0][0].set_ylabel('Probability')\n",
    "axs[0][0].grid()\n",
    "\n",
    "axs[0][1].plot(x, y_pois, 'green', ms=2)\n",
    "axs[0][1].set_title('Poisson -- X-Range to 10000')\n",
    "axs[0][1].set_xlim(0,10000)\n",
    "axs[0][1].set_xlabel('RV Value')\n",
    "axs[0][1].set_ylabel('Probability')\n",
    "axs[0][1].grid()\n",
    "\n",
    "axs[1][0].plot(x, y_binom, 'blue', ms=2)\n",
    "axs[1][0].set_title('Binomial -- X-Range to 100')\n",
    "axs[1][0].set_xlim(0,100)\n",
    "axs[1][0].set_xlabel('RV Value')\n",
    "axs[1][0].set_ylabel('Probability')\n",
    "axs[1][0].grid()\n",
    "\n",
    "axs[1][1].plot(x, y_pois, 'green', ms=2)\n",
    "axs[1][1].set_title('Poisson -- X-Range to 100')\n",
    "axs[1][1].set_xlim(0,100)\n",
    "axs[1][1].set_xlabel('RV Value')\n",
    "axs[1][1].set_ylabel('Probability')\n",
    "axs[1][1].grid()\n",
    "\n",
    "plt.show()\n"
   ]
  },
  {
   "cell_type": "markdown",
   "metadata": {},
   "source": [
    "*****TODO: Discuss Findings*****"
   ]
  },
  {
   "cell_type": "markdown",
   "metadata": {},
   "source": [
    ">**e. Solve Task 3.1.e by using the cumulative distribution function (CDF) of the\n",
    "distribution you computed in Task 3.2.c and compare the results. Discuss your\n",
    "findings. (1 points)**"
   ]
  },
  {
   "cell_type": "code",
   "execution_count": 140,
   "metadata": {},
   "outputs": [
    {
     "name": "stdout",
     "output_type": "stream",
     "text": [
      "Self-Calculated Value:  8.85e-08\n",
      "Distribution-Calculated Value:  3.103e-07\n"
     ]
    }
   ],
   "source": [
    "value = scipy.stats.poisson.pmf(100,lam)\n",
    "print(\"Self-Calculated Value: \",round(prob,10))\n",
    "print(\"Distribution-Calculated Value: \",round(value,10))"
   ]
  },
  {
   "cell_type": "markdown",
   "metadata": {},
   "source": [
    "These findings make sense, as the expectation for disengagements in 10000 miles driven, considering both the poisson and binomial distributions, was 59. One hundred disengagements is well outside of the range of reasonable values. "
   ]
  },
  {
   "cell_type": "markdown",
   "metadata": {},
   "source": [
    "**3. What’s the conditional probability that the reaction time is: (4 points)**"
   ]
  },
  {
   "cell_type": "markdown",
   "metadata": {},
   "source": [
    ">**a. Greater than 0.4s given that the weather was cloudy? Reaction time is\n",
    "measured only in cases where there was an automatic disengagement. (2\n",
    "points)**"
   ]
  },
  {
   "cell_type": "code",
   "execution_count": 141,
   "metadata": {},
   "outputs": [
    {
     "data": {
      "text/html": [
       "<div>\n",
       "<style scoped>\n",
       "    .dataframe tbody tr th:only-of-type {\n",
       "        vertical-align: middle;\n",
       "    }\n",
       "\n",
       "    .dataframe tbody tr th {\n",
       "        vertical-align: top;\n",
       "    }\n",
       "\n",
       "    .dataframe thead th {\n",
       "        text-align: right;\n",
       "    }\n",
       "</style>\n",
       "<table border=\"1\" class=\"dataframe\">\n",
       "  <thead>\n",
       "    <tr style=\"text-align: right;\">\n",
       "      <th></th>\n",
       "      <th>Month</th>\n",
       "      <th>Car</th>\n",
       "      <th>Location</th>\n",
       "      <th>Weather</th>\n",
       "      <th>TypeOfTrigger</th>\n",
       "      <th>ReactionTime</th>\n",
       "      <th>Cause</th>\n",
       "    </tr>\n",
       "  </thead>\n",
       "  <tbody>\n",
       "    <tr>\n",
       "      <th>0</th>\n",
       "      <td>14-Sep</td>\n",
       "      <td>WDD2221851A001072</td>\n",
       "      <td>urban-street</td>\n",
       "      <td>cloudy</td>\n",
       "      <td>automatic</td>\n",
       "      <td>0.58</td>\n",
       "      <td>Incorrect Traffic Light Detection</td>\n",
       "    </tr>\n",
       "    <tr>\n",
       "      <th>1</th>\n",
       "      <td>14-Sep</td>\n",
       "      <td>WDD2221851A001072</td>\n",
       "      <td>urban-street</td>\n",
       "      <td>cloudy</td>\n",
       "      <td>automatic</td>\n",
       "      <td>0.66</td>\n",
       "      <td>Adverse road surface conditions</td>\n",
       "    </tr>\n",
       "    <tr>\n",
       "      <th>2</th>\n",
       "      <td>14-Sep</td>\n",
       "      <td>WDD2221851A001072</td>\n",
       "      <td>urban-street</td>\n",
       "      <td>cloudy</td>\n",
       "      <td>automatic</td>\n",
       "      <td>1.93</td>\n",
       "      <td>Position Estimation Failure</td>\n",
       "    </tr>\n",
       "    <tr>\n",
       "      <th>3</th>\n",
       "      <td>14-Sep</td>\n",
       "      <td>WDD2221851A001072</td>\n",
       "      <td>urban-street</td>\n",
       "      <td>cloudy</td>\n",
       "      <td>automatic</td>\n",
       "      <td>0.65</td>\n",
       "      <td>Emergency Vehicle</td>\n",
       "    </tr>\n",
       "    <tr>\n",
       "      <th>4</th>\n",
       "      <td>14-Sep</td>\n",
       "      <td>WDD2221851A001072</td>\n",
       "      <td>urban-street</td>\n",
       "      <td>cloudy</td>\n",
       "      <td>automatic</td>\n",
       "      <td>0.64</td>\n",
       "      <td>Adverse road surface conditions</td>\n",
       "    </tr>\n",
       "  </tbody>\n",
       "</table>\n",
       "</div>"
      ],
      "text/plain": [
       "    Month                Car      Location Weather TypeOfTrigger  \\\n",
       "0  14-Sep  WDD2221851A001072  urban-street  cloudy     automatic   \n",
       "1  14-Sep  WDD2221851A001072  urban-street  cloudy     automatic   \n",
       "2  14-Sep  WDD2221851A001072  urban-street  cloudy     automatic   \n",
       "3  14-Sep  WDD2221851A001072  urban-street  cloudy     automatic   \n",
       "4  14-Sep  WDD2221851A001072  urban-street  cloudy     automatic   \n",
       "\n",
       "   ReactionTime                              Cause  \n",
       "0          0.58  Incorrect Traffic Light Detection  \n",
       "1          0.66    Adverse road surface conditions  \n",
       "2          1.93        Position Estimation Failure  \n",
       "3          0.65                  Emergency Vehicle  \n",
       "4          0.64    Adverse road surface conditions  "
      ]
     },
     "execution_count": 141,
     "metadata": {},
     "output_type": "execute_result"
    }
   ],
   "source": [
    "automatic_disengagements.head()"
   ]
  },
  {
   "cell_type": "code",
   "execution_count": 142,
   "metadata": {},
   "outputs": [
    {
     "name": "stdout",
     "output_type": "stream",
     "text": [
      "Probability of reaction time greater than 0.4 seconds, given cloudy weather:  0.6120906801007557\n"
     ]
    }
   ],
   "source": [
    "P_cloudy = automatic_disengagements[automatic_disengagements['Weather']=='cloudy'].shape[0]/ \\\n",
    "            automatic_disengagements.shape[0]\n",
    "\n",
    "rt_greater = automatic_disengagements[automatic_disengagements['ReactionTime']>0.4]\n",
    "P_cloudy_given_greater = rt_greater[rt_greater['Weather']=='cloudy'].shape[0]/ \\\n",
    "                        rt_greater.shape[0]\n",
    "                    \n",
    "P_rt_greater = automatic_disengagements[automatic_disengagements['ReactionTime']>0.4].shape[0]/ \\\n",
    "                automatic_disengagements.shape[0]\n",
    "                         \n",
    "P_rt_greater_given_cloudy = (P_cloudy_given_greater*P_rt_greater) / (P_cloudy)\n",
    "print(\"Probability of reaction time greater than 0.4 seconds, given cloudy weather: \", \\\n",
    "        P_rt_greater_given_cloudy)"
   ]
  },
  {
   "cell_type": "markdown",
   "metadata": {},
   "source": [
    ">**b. Greater than 0.7s given that the weather was clear? Reaction time is\n",
    "measured only in cases where there was an automatic disengagement. (2\n",
    "points)**"
   ]
  },
  {
   "cell_type": "code",
   "execution_count": 143,
   "metadata": {},
   "outputs": [
    {
     "name": "stdout",
     "output_type": "stream",
     "text": [
      "Probability of reaction time greater than 0.7 seconds, given clear weather:  0.3854166666666667\n"
     ]
    }
   ],
   "source": [
    "P_clear = automatic_disengagements[automatic_disengagements['Weather']=='clear'].shape[0]/ \\\n",
    "            automatic_disengagements.shape[0]\n",
    "\n",
    "rt_greater = automatic_disengagements[automatic_disengagements['ReactionTime']>0.7]\n",
    "P_clear_given_greater = rt_greater[rt_greater['Weather']=='clear'].shape[0]/ \\\n",
    "                        rt_greater.shape[0]\n",
    "                    \n",
    "P_rt_greater = automatic_disengagements[automatic_disengagements['ReactionTime']>0.7].shape[0]/ \\\n",
    "                automatic_disengagements.shape[0]\n",
    "                         \n",
    "P_rt_greater_given_clear = (P_clear_given_greater*P_rt_greater) / (P_clear)\n",
    "print(\"Probability of reaction time greater than 0.7 seconds, given clear weather: \", \\\n",
    "        P_rt_greater_given_clear)"
   ]
  },
  {
   "cell_type": "markdown",
   "metadata": {},
   "source": [
    "**4. A study found that an automatic AV disengagement will result in an accident if\n",
    "the human driver is slow in reacting. Following reactions are considered slow: (i) a\n",
    "reaction time greater than 0.4s under cloudy conditions and, (ii) a reaction time\n",
    "greater than 0.7s under clear conditions. Find the probability of an accident per mile\n",
    "due to automatic AV disengagement and slow reaction. (2 points)**\n"
   ]
  },
  {
   "cell_type": "markdown",
   "metadata": {},
   "source": [
    "    P(accident) = P(slow reaction) * P(autodisengagement)\n",
    "    ASSUMING: disengagement + slow reaction ==> accident (always)\n",
    "\n",
    "    P(slow reaction) = P(slow reaction|cloudy)*p(cloudy) + P(slow react|clear)*P(clear)"
   ]
  },
  {
   "cell_type": "code",
   "execution_count": 144,
   "metadata": {},
   "outputs": [
    {
     "name": "stdout",
     "output_type": "stream",
     "text": [
      "Probability of an accident:  0.0033509127789046653\n"
     ]
    }
   ],
   "source": [
    "p_slow_react = (P_rt_greater_given_clear*P_clear) + (P_rt_greater_given_cloudy*P_cloudy)\n",
    "p_automatic_disengagement_per_mile = 0.0059\n",
    "\n",
    "p_accident = p_automatic_disengagement_per_mile * p_slow_react\n",
    "print(\"Probability of an accident: \",p_accident)"
   ]
  },
  {
   "cell_type": "markdown",
   "metadata": {},
   "source": [
    "**5. Next, you will investigate how to diagnose the cause of an AV disengagement\n",
    "based on new observations. (4 points)**\n",
    ">**a. An AV had a disengagement with a reaction time greater than 0.4s on a\n",
    "cloudy day. What is the posterior probability that the root cause of the\n",
    "disengagement was “Software Froze”? (2 points)**"
   ]
  },
  {
   "cell_type": "markdown",
   "metadata": {},
   "source": [
    "P(SF | slow rt, cloudy) = P(slow rt, cloudy | SF) * P(SF) / P(slow rt, cloudy)"
   ]
  },
  {
   "cell_type": "code",
   "execution_count": 145,
   "metadata": {},
   "outputs": [
    {
     "name": "stdout",
     "output_type": "stream",
     "text": [
      "Posterior probability (Slow, Software Froze, Cloudy):  0.053497942386831275\n"
     ]
    }
   ],
   "source": [
    "sf_disengagement = automatic_disengagements[automatic_disengagements['Cause']==\"Software Froze\"]\n",
    "p_sf = sf_disengagement.shape[0] / automatic_disengagements.shape[0]\n",
    "p_slow_cloudy = automatic_disengagements[(automatic_disengagements['Weather']=='cloudy') & (automatic_disengagements['ReactionTime']>0.4)].shape[0] / automatic_disengagements.shape[0]\n",
    "p_slow_cloudy_given_sf = sf_disengagement[(sf_disengagement['Weather']=='cloudy') & (sf_disengagement['ReactionTime']>0.4)].shape[0] / sf_disengagement.shape[0]\n",
    "p_software_froze_given_slow_react_cloudy = p_slow_cloudy_given_sf*p_sf/p_slow_cloudy\n",
    "\n",
    "# Using Counts (same answer)\n",
    "# slow_react_cloudy_dataframe = automatic_disengagements[(automatic_disengagements['Weather']=='cloudy') & (automatic_disengagements['ReactionTime']>0.4)]\n",
    "# p_software_froze_given_slow_react_cloudy = (slow_react_cloudy_dataframe[slow_react_cloudy_dataframe['Cause']==\"Software Froze\"].shape[0]) / slow_react_cloudy_dataframe.shape[0]\n",
    "\n",
    "print(\"Posterior probability (Slow, Software Froze, Cloudy): \", p_software_froze_given_slow_react_cloudy)"
   ]
  },
  {
   "cell_type": "markdown",
   "metadata": {},
   "source": [
    ">**b. What is the posterior probability that the root cause of the disengagement\n",
    "was “Software Froze if the disengagement happened on a clear day with reaction\n",
    "time greater than 0.7s. Based on the probabilities calculated in Tasks 3.5.a and\n",
    "3.5.b, discuss your findings. (2 points)**"
   ]
  },
  {
   "cell_type": "code",
   "execution_count": 146,
   "metadata": {},
   "outputs": [
    {
     "name": "stdout",
     "output_type": "stream",
     "text": [
      "Posterior probability (Slow, Software Froze, Clear):  0.24324324324324326\n"
     ]
    }
   ],
   "source": [
    "sf_disengagement = automatic_disengagements[automatic_disengagements['Cause']==\"Software Froze\"]\n",
    "p_sf = sf_disengagement.shape[0] / automatic_disengagements.shape[0]\n",
    "p_slow_clear = automatic_disengagements[(automatic_disengagements['Weather']=='clear') & (automatic_disengagements['ReactionTime']>0.7)].shape[0] / automatic_disengagements.shape[0]\n",
    "p_slow_clear_given_sf = sf_disengagement[(sf_disengagement['Weather']=='clear') & (sf_disengagement['ReactionTime']>0.7)].shape[0] / sf_disengagement.shape[0]\n",
    "p_software_froze_given_slow_react_clear = p_slow_clear_given_sf*p_sf/p_slow_clear\n",
    "\n",
    "# Using Counts (same answer)\n",
    "# slow_react_clear_dataframe = automatic_disengagements[(automatic_disengagements['Weather']=='clear') & (automatic_disengagements['ReactionTime']>0.7)]\n",
    "# p_software_froze_given_slow_react_clear = (slow_react_clear_dataframe[slow_react_clear_dataframe['Cause']==\"Software Froze\"].shape[0]) / slow_react_clear_dataframe.shape[0]\n",
    "\n",
    "print(\"Posterior probability (Slow, Software Froze, Clear): \", p_software_froze_given_slow_react_clear)"
   ]
  },
  {
   "cell_type": "markdown",
   "metadata": {},
   "source": [
    "TODO: Add Findings"
   ]
  },
  {
   "cell_type": "markdown",
   "metadata": {},
   "source": [
    "**6. In this question, you will construct a Naive Bayes model to infer the root cause of\n",
    "disengagement scenarios of AVs. Naive Bayes assumes that the factors are class\n",
    "conditionally independent. We assume that both Location (urban-street or highway)\n",
    "and Weather (cloudy or clear) are factors related to the Cause (consider the Cause\n",
    "has 3 different values, “Software Froze”, “Hardware Fault” or “Other”), and Location\n",
    "and Weather are independent given the Cause. Answer the following questions: (8\n",
    "points)**\n",
    ">**a. Draw a graph for the Naive Bayes model described in the question. (2\n",
    "points)**"
   ]
  },
  {
   "cell_type": "code",
   "execution_count": 147,
   "metadata": {},
   "outputs": [
    {
     "data": {
      "image/png": "[encoded data removed]",
      "text/plain": [
       "<Figure size 500x500 with 1 Axes>"
      ]
     },
     "metadata": {},
     "output_type": "display_data"
    }
   ],
   "source": [
    "import networkx as nx\n",
    "import matplotlib.pyplot as plt\n",
    "\n",
    "G = nx.DiGraph()\n",
    "\n",
    "edges = [\n",
    "    ('Cause', 'Location'), ('Cause', 'Weather') # A is the root node\n",
    "]\n",
    "G.add_edges_from(edges)\n",
    "\n",
    "# Manually define positions\n",
    "pos = {\n",
    "    'Cause': (0, 1),\n",
    "    'Location': (-1, 0),\n",
    "    'Weather': (1, 0),\n",
    "}\n",
    "\n",
    "plt.figure(figsize=(5, 5))\n",
    "nx.draw(G, pos, with_labels=True, node_color='lightblue', node_size=3000, font_size=10, arrows=True)\n",
    "\n",
    "plt.title('Naive Bayes Model')\n",
    "plt.show()\n"
   ]
  },
  {
   "cell_type": "markdown",
   "metadata": {},
   "source": [
    ">**b. Count the number of parameters needed to define the Naive Bayes model\n",
    "(including the prior and the conditional probability distributions). (2 points)**"
   ]
  },
  {
   "cell_type": "markdown",
   "metadata": {},
   "source": [
    "Arbitrary Joint Distribution:  \n",
    "(3 * 2 * 2) - 1 = 11 parameters"
   ]
  },
  {
   "cell_type": "markdown",
   "metadata": {},
   "source": [
    "Naive Bayes Model:\n",
    "\n",
    "P(C,L,W) = P(L|O)P(W|O)P(O)\n",
    "\n",
    "P(L = urban-street | O = Software Froze), P(L = urban-street | O = Hardware Fault), P(L = urban-street | O = Other),\n",
    "\n",
    "P(W = cloudy | O = Software Froze), P(W = cloudy | O = Hardware Fault), P(W = cloudy | O = Other),\n",
    "\n",
    "P(O = Software Froze), P(O = Hardware Fault)\n",
    "\n",
    "**8 Parameters**"
   ]
  },
  {
   "cell_type": "markdown",
   "metadata": {},
   "source": [
    ">**c. Based on the number of parameters needed, derive, and show the\n",
    "conditional probability tables and prior probability from the given dataset to infer\n",
    "the Cause. (2 points)**"
   ]
  },
  {
   "cell_type": "code",
   "execution_count": 148,
   "metadata": {},
   "outputs": [
    {
     "name": "stdout",
     "output_type": "stream",
     "text": [
      "0.09939148073022312\n",
      "0.10141987829614604\n",
      "0.7991886409736308\n"
     ]
    }
   ],
   "source": [
    "## Priors ##\n",
    "\n",
    "# P(O = Software Froze)\n",
    "sf_dataframe = automatic_disengagements[automatic_disengagements['Cause']==\"Software Froze\"]\n",
    "p_sf = sf_dataframe.shape[0] / automatic_disengagements.shape[0]\n",
    "print(p_sf)\n",
    "\n",
    "# P(O = Hardware Fault)\n",
    "hf_dataframe = automatic_disengagements[automatic_disengagements['Cause']==\"Hardware Fault\"]\n",
    "p_hf = hf_dataframe.shape[0] / automatic_disengagements.shape[0]\n",
    "print(p_hf)\n",
    "\n",
    "# --- infered from  required parameters --- #\n",
    "\n",
    "# P(O = Other)\n",
    "o_dataframe = automatic_disengagements[(automatic_disengagements['Cause']!=\"Software Froze\") & (automatic_disengagements['Cause']!=\"Hardware Fault\")]\n",
    "# p_o = o_dataframe.shape[0] / automatic_disengagements.shape[0]\n",
    "p_o = 1 - p_sf - p_hf\n",
    "print(p_o)"
   ]
  },
  {
   "cell_type": "code",
   "execution_count": 149,
   "metadata": {},
   "outputs": [],
   "source": [
    "## Conditional Probabilities ##\n",
    "\n",
    "# P(L = urban-street | O = Software Froze)\n",
    "p_us_given_sf = sf_dataframe[sf_dataframe['Location']=='urban-street'].shape[0] / sf_dataframe.shape[0]\n",
    "# P(L = urban-street | O = Hardware Fault)\n",
    "p_us_given_hf = hf_dataframe[hf_dataframe['Location']=='urban-street'].shape[0] / hf_dataframe.shape[0]\n",
    "# P(L = urban-street | O = Other)\n",
    "p_us_given_o = o_dataframe[o_dataframe['Location']=='urban-street'].shape[0] / o_dataframe.shape[0]\n",
    "\n",
    "# P(W = cloudy | O = Software Froze)\n",
    "p_cloudy_given_sf = sf_dataframe[sf_dataframe['Weather']=='cloudy'].shape[0] / sf_dataframe.shape[0]\n",
    "# P(W = cloudy | O = Hardware Fault)\n",
    "p_cloudy_given_hf = hf_dataframe[hf_dataframe['Weather']=='cloudy'].shape[0] / hf_dataframe.shape[0]\n",
    "# P(W = cloudy | O = Other)\n",
    "p_cloudy_given_o = o_dataframe[o_dataframe['Weather']=='cloudy'].shape[0] / o_dataframe.shape[0]\n",
    "\n",
    "# --- infered from  required parameters --- #\n",
    "\n",
    "# P(L = highway | O = Software Froze)\n",
    "p_h_given_sf = 1 - p_us_given_sf\n",
    "# P(L = highway | O = Hardware Fault)\n",
    "p_h_given_hf = 1 - p_us_given_hf\n",
    "# P(L = highway | O = Other)\n",
    "p_h_given_o = 1 - p_us_given_o\n",
    "\n",
    "# P(W = clear | O = Software Froze)\n",
    "p_clear_given_sf = 1 - p_cloudy_given_sf\n",
    "# P(W = clear | O = Hardware Fault)\n",
    "p_clear_given_hf = 1 - p_cloudy_given_hf\n",
    "# P(W = clear | O = Other)\n",
    "p_clear_given_o = 1 - p_cloudy_given_o"
   ]
  },
  {
   "cell_type": "markdown",
   "metadata": {},
   "source": [
    ">**d. According to the conditional probability tables you derived, what is the most\n",
    "probable root cause of disengagement given the Weather was cloudy and the\n",
    "Location was urban-street. (2 points)**"
   ]
  },
  {
   "cell_type": "code",
   "execution_count": 150,
   "metadata": {},
   "outputs": [
    {
     "name": "stdout",
     "output_type": "stream",
     "text": [
      "0.038539553752535496\n",
      "0.03975659229208925\n",
      "0.7261663286004056\n"
     ]
    }
   ],
   "source": [
    "# given L = urban-street and W = cloudy\n",
    "\n",
    "# Software Freeze\n",
    "score_sf_given_us_cloudy = p_sf * p_us_given_sf * p_cloudy_given_sf\n",
    "print(score_sf_given_us_cloudy)\n",
    "\n",
    "# Hardware Fault\n",
    "score_hf_given_us_cloudy = p_hf * p_us_given_hf * p_cloudy_given_hf\n",
    "print(score_hf_given_us_cloudy)\n",
    "\n",
    "# Other\n",
    "score_o_given_us_cloudy = p_o * p_us_given_o * p_cloudy_given_o\n",
    "print(score_o_given_us_cloudy)"
   ]
  },
  {
   "cell_type": "markdown",
   "metadata": {},
   "source": [
    "Therefore **Other** root cause is most probable given Weather was cloudy and the Location was urban-street"
   ]
  },
  {
   "cell_type": "code",
   "execution_count": null,
   "metadata": {},
   "outputs": [],
   "source": []
  },
  {
   "cell_type": "code",
   "execution_count": null,
   "metadata": {},
   "outputs": [],
   "source": []
  },
  {
   "cell_type": "code",
   "execution_count": null,
   "metadata": {},
   "outputs": [],
   "source": []
  }
 ],
 "metadata": {
  "kernelspec": {
   "display_name": "Python 3 (ipykernel)",
   "language": "python",
   "name": "python3"
  },
  "language_info": {
   "codemirror_mode": {
    "name": "ipython",
    "version": 3
   },
   "file_extension": ".py",
   "mimetype": "text/x-python",
   "name": "python",
   "nbconvert_exporter": "python",
   "pygments_lexer": "ipython3",
   "version": "3.9.19"
  }
 },
 "nbformat": 4,
 "nbformat_minor": 4
}
