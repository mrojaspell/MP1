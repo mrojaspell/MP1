{
 "cells": [
  {
   "cell_type": "markdown",
   "id": "b017a21f-072c-41f2-a402-7f25b3447782",
   "metadata": {},
   "source": [
    "# MP 1: Safety Analysis of Autonomous Vehicles\n",
    "## Part 3: Combine Analysis of Simulation Data and Real Data\n",
    "Group 9: \n",
    "- Zach Larson (zlarson2)\n",
    "- Máximo Rojas (mgr9)\n",
    "- Matthew Paul (mjpaul3)"
   ]
  },
  {
   "cell_type": "code",
   "execution_count": 1,
   "id": "1206496c-8cd6-4be6-96ac-44c82165e0be",
   "metadata": {},
   "outputs": [],
   "source": [
    "import pandas as pd\n",
    "import numpy as np\n",
    "import matplotlib.pyplot as plt\n",
    "import networkx as nx\n",
    "import scipy"
   ]
  },
  {
   "cell_type": "code",
   "execution_count": 3,
   "id": "28000233-31a7-49bd-a619-f94193e8b7a4",
   "metadata": {},
   "outputs": [
    {
     "name": "stdout",
     "output_type": "stream",
     "text": [
      "(2000, 4)\n"
     ]
    },
    {
     "data": {
      "text/html": [
       "<div>\n",
       "<style scoped>\n",
       "    .dataframe tbody tr th:only-of-type {\n",
       "        vertical-align: middle;\n",
       "    }\n",
       "\n",
       "    .dataframe tbody tr th {\n",
       "        vertical-align: top;\n",
       "    }\n",
       "\n",
       "    .dataframe thead th {\n",
       "        text-align: right;\n",
       "    }\n",
       "</style>\n",
       "<table border=\"1\" class=\"dataframe\">\n",
       "  <thead>\n",
       "    <tr style=\"text-align: right;\">\n",
       "      <th></th>\n",
       "      <th>Unnamed: 0</th>\n",
       "      <th>weather</th>\n",
       "      <th>scenario</th>\n",
       "      <th>status</th>\n",
       "    </tr>\n",
       "  </thead>\n",
       "  <tbody>\n",
       "    <tr>\n",
       "      <th>0</th>\n",
       "      <td>0</td>\n",
       "      <td>clear</td>\n",
       "      <td>ghost_cutin</td>\n",
       "      <td>Completed</td>\n",
       "    </tr>\n",
       "    <tr>\n",
       "      <th>1</th>\n",
       "      <td>1</td>\n",
       "      <td>cloudy</td>\n",
       "      <td>ghost_cutin</td>\n",
       "      <td>Completed</td>\n",
       "    </tr>\n",
       "    <tr>\n",
       "      <th>2</th>\n",
       "      <td>2</td>\n",
       "      <td>rain</td>\n",
       "      <td>ghost_cutin</td>\n",
       "      <td>Completed</td>\n",
       "    </tr>\n",
       "    <tr>\n",
       "      <th>3</th>\n",
       "      <td>3</td>\n",
       "      <td>snow</td>\n",
       "      <td>ghost_cutin</td>\n",
       "      <td>Completed</td>\n",
       "    </tr>\n",
       "    <tr>\n",
       "      <th>4</th>\n",
       "      <td>4</td>\n",
       "      <td>clear</td>\n",
       "      <td>ghost_cutin</td>\n",
       "      <td>Completed</td>\n",
       "    </tr>\n",
       "  </tbody>\n",
       "</table>\n",
       "</div>"
      ],
      "text/plain": [
       "   Unnamed: 0 weather     scenario     status\n",
       "0           0   clear  ghost_cutin  Completed\n",
       "1           1  cloudy  ghost_cutin  Completed\n",
       "2           2    rain  ghost_cutin  Completed\n",
       "3           3    snow  ghost_cutin  Completed\n",
       "4           4   clear  ghost_cutin  Completed"
      ]
     },
     "execution_count": 3,
     "metadata": {},
     "output_type": "execute_result"
    }
   ],
   "source": [
    "av_data = pd.read_csv(\"Data Part 3/mp1_part3_data_2024.csv\")\n",
    "print(av_data.shape)\n",
    "av_data.head()"
   ]
  },
  {
   "cell_type": "markdown",
   "id": "8727a0cb-a7c9-452e-bb80-186ac710b884",
   "metadata": {},
   "source": [
    "**1. Parse the provided Carla simulation dataset and calculate the following probabilities for\n",
    "the cut-in scenario (you need to filter our invalid data points before doing the analysis):**"
   ]
  },
  {
   "cell_type": "code",
   "execution_count": 6,
   "id": "c0b5afa5-1ae9-4e0f-8bce-bcae3b256632",
   "metadata": {},
   "outputs": [
    {
     "name": "stdout",
     "output_type": "stream",
     "text": [
      "(1980, 4)\n"
     ]
    },
    {
     "data": {
      "text/html": [
       "<div>\n",
       "<style scoped>\n",
       "    .dataframe tbody tr th:only-of-type {\n",
       "        vertical-align: middle;\n",
       "    }\n",
       "\n",
       "    .dataframe tbody tr th {\n",
       "        vertical-align: top;\n",
       "    }\n",
       "\n",
       "    .dataframe thead th {\n",
       "        text-align: right;\n",
       "    }\n",
       "</style>\n",
       "<table border=\"1\" class=\"dataframe\">\n",
       "  <thead>\n",
       "    <tr style=\"text-align: right;\">\n",
       "      <th></th>\n",
       "      <th>Unnamed: 0</th>\n",
       "      <th>weather</th>\n",
       "      <th>scenario</th>\n",
       "      <th>status</th>\n",
       "    </tr>\n",
       "  </thead>\n",
       "  <tbody>\n",
       "    <tr>\n",
       "      <th>0</th>\n",
       "      <td>0</td>\n",
       "      <td>clear</td>\n",
       "      <td>ghost_cutin</td>\n",
       "      <td>Completed</td>\n",
       "    </tr>\n",
       "    <tr>\n",
       "      <th>1</th>\n",
       "      <td>1</td>\n",
       "      <td>cloudy</td>\n",
       "      <td>ghost_cutin</td>\n",
       "      <td>Completed</td>\n",
       "    </tr>\n",
       "    <tr>\n",
       "      <th>2</th>\n",
       "      <td>2</td>\n",
       "      <td>rain</td>\n",
       "      <td>ghost_cutin</td>\n",
       "      <td>Completed</td>\n",
       "    </tr>\n",
       "    <tr>\n",
       "      <th>3</th>\n",
       "      <td>3</td>\n",
       "      <td>snow</td>\n",
       "      <td>ghost_cutin</td>\n",
       "      <td>Completed</td>\n",
       "    </tr>\n",
       "    <tr>\n",
       "      <th>4</th>\n",
       "      <td>4</td>\n",
       "      <td>clear</td>\n",
       "      <td>ghost_cutin</td>\n",
       "      <td>Completed</td>\n",
       "    </tr>\n",
       "  </tbody>\n",
       "</table>\n",
       "</div>"
      ],
      "text/plain": [
       "   Unnamed: 0 weather     scenario     status\n",
       "0           0   clear  ghost_cutin  Completed\n",
       "1           1  cloudy  ghost_cutin  Completed\n",
       "2           2    rain  ghost_cutin  Completed\n",
       "3           3    snow  ghost_cutin  Completed\n",
       "4           4   clear  ghost_cutin  Completed"
      ]
     },
     "execution_count": 6,
     "metadata": {},
     "output_type": "execute_result"
    }
   ],
   "source": [
    "filtered_av_data = av_data[av_data['status']!='Failed -- Simulator crashed']\n",
    "print(filtered_av_data.shape)\n",
    "filtered_av_data.head()"
   ]
  },
  {
   "cell_type": "markdown",
   "id": "a52c1919-cc35-4a3f-88fd-57aaff472181",
   "metadata": {},
   "source": [
    ">**a. The probability of accident P(acc=1) across all weather conditions. (1 point)**"
   ]
  },
  {
   "cell_type": "code",
   "execution_count": 24,
   "id": "54956c80-9d67-4491-9967-e7465d0887b8",
   "metadata": {},
   "outputs": [
    {
     "name": "stdout",
     "output_type": "stream",
     "text": [
      "P(acc=1): 0.0898989898989899\n"
     ]
    }
   ],
   "source": [
    "p_accident = filtered_av_data[filtered_av_data['status']=='Failed -- Accident'].shape[0] / filtered_av_data.shape[0]\n",
    "print(\"P(acc = 1):\",p_accident)"
   ]
  },
  {
   "cell_type": "markdown",
   "id": "2288d128-e17c-4a2a-92e5-00c600c4b3fb",
   "metadata": {},
   "source": [
    ">**b. The probability of an accident conditioned on the weather,\n",
    "P(acc=1 | weather=?), for each weather condition. (1 point)**"
   ]
  },
  {
   "cell_type": "code",
   "execution_count": 10,
   "id": "95585a63-f5ba-4d29-8763-d94d2309588c",
   "metadata": {},
   "outputs": [],
   "source": [
    "clear_dataframe = filtered_av_data[filtered_av_data['weather']=='clear']\n",
    "cloudy_dataframe = filtered_av_data[filtered_av_data['weather']=='cloudy']\n",
    "rain_dataframe = filtered_av_data[filtered_av_data['weather']=='rain']\n",
    "snow_dataframe = filtered_av_data[filtered_av_data['weather']=='snow']"
   ]
  },
  {
   "cell_type": "code",
   "execution_count": 11,
   "id": "601db430-692c-43fb-aaba-006c401893f0",
   "metadata": {},
   "outputs": [],
   "source": [
    "p_accident_given_clear = clear_dataframe[clear_dataframe['status']=='Failed -- Accident'].shape[0] / clear_dataframe.shape[0]\n",
    "p_accident_given_cloudy = cloudy_dataframe[cloudy_dataframe['status']=='Failed -- Accident'].shape[0] / cloudy_dataframe.shape[0]\n",
    "p_accident_given_rain = rain_dataframe[rain_dataframe['status']=='Failed -- Accident'].shape[0] / rain_dataframe.shape[0]\n",
    "p_accident_given_snow = snow_dataframe[snow_dataframe['status']=='Failed -- Accident'].shape[0] / snow_dataframe.shape[0]"
   ]
  },
  {
   "cell_type": "code",
   "execution_count": 25,
   "id": "fb9799a0-179b-40fb-a7bd-a0291f3ea36a",
   "metadata": {},
   "outputs": [
    {
     "name": "stdout",
     "output_type": "stream",
     "text": [
      "P(acc = 1 | weather = clear) 0.008130081300813009\n",
      "P(acc = 1 | weather = cloudy) 0.04251012145748988\n",
      "P(acc = 1 | weather = rain) 0.12474849094567404\n",
      "P(acc = 1 | weather = snow) 0.18309859154929578\n"
     ]
    }
   ],
   "source": [
    "print(\"P(acc = 1 | weather = clear)\",p_accident_given_clear)\n",
    "print(\"P(acc = 1 | weather = cloudy)\",p_accident_given_cloudy)\n",
    "print(\"P(acc = 1 | weather = rain)\",p_accident_given_rain)\n",
    "print(\"P(acc = 1 | weather = snow)\",p_accident_given_snow)"
   ]
  },
  {
   "cell_type": "markdown",
   "id": "0f8a364d-f748-47d6-b673-7090d4bb166d",
   "metadata": {},
   "source": [
    "**2. The baseline simulated dataset contains accident information for snowy conditions and\n",
    "rainy conditions. In California it is sunny 80% of the time, rainy 5% of the time, snowy 2%\n",
    "of the time and cloudy the rest of the time. In Chicago, it is sunny 60% of the time, it rains\n",
    "15% and it is snowy 20% of the time, and cloudy the rest of the time. Calculate the\n",
    "probability of an accident in the cut-in scenario for California and Chicago, respectively.\n",
    "Clearly state your assumptions and method. (2 points)**"
   ]
  },
  {
   "cell_type": "code",
   "execution_count": 14,
   "id": "bf95f510-e4df-4cea-8736-b004fc4878cb",
   "metadata": {},
   "outputs": [],
   "source": [
    "p_clear_cali = .8\n",
    "p_cloudy_cali = .13\n",
    "p_rain_cali = .05\n",
    "p_snow_cali = .02\n",
    "\n",
    "p_clear_chi = .6\n",
    "p_cloudy_chi = .05\n",
    "p_rain_chi = .15\n",
    "p_snow_chi = .2"
   ]
  },
  {
   "cell_type": "markdown",
   "id": "a4d00293-745f-4670-88d5-878db5da6005",
   "metadata": {},
   "source": [
    "Assumptions:\n",
    ">\n",
    "\n",
    "Method:\n",
    "\n",
    ">Law of Total Probability: P(acc) = P(clear)*P(acc|clear) + P(cloudy)*P(acc|cloudy) + P(rain)*P(acc|rain) + P(snow)*P(acc|snow)"
   ]
  },
  {
   "cell_type": "code",
   "execution_count": 15,
   "id": "160a5bee-aa3f-4c59-a7f0-4bd0344e0a8a",
   "metadata": {},
   "outputs": [],
   "source": [
    "p_accident_cali = (p_clear_cali * p_accident_given_clear) + (p_cloudy_cali * p_accident_given_cloudy) + (p_rain_cali * p_accident_given_rain) + (p_snow_cali * p_accident_given_snow)\n",
    "p_accident_chi = (p_clear_chi * p_accident_given_clear) + (p_cloudy_chi * p_accident_given_cloudy) + (p_rain_chi * p_accident_given_rain) + (p_snow_chi * p_accident_given_snow)"
   ]
  },
  {
   "cell_type": "code",
   "execution_count": 26,
   "id": "ab80be56-37f2-41a2-9109-e48a7b45d18c",
   "metadata": {},
   "outputs": [
    {
     "name": "stdout",
     "output_type": "stream",
     "text": [
      "P(acc = 1) in California: 0.02192977720839371\n",
      "P(acc = 1) in Chicago: 0.062335546805072556\n"
     ]
    }
   ],
   "source": [
    "print(\"P(acc = 1) in California:\",p_accident_cali)\n",
    "print(\"P(acc = 1) in Chicago:\",p_accident_chi)"
   ]
  },
  {
   "cell_type": "markdown",
   "id": "de558789-1e39-472e-90e4-8f9b7f385401",
   "metadata": {},
   "source": [
    "**3. In Part 2, Task 3.4, you calculated the AV’s probability of an accident per mile for the\n",
    "California DMV dataset. Suppose you want to compare the simulated accident rate with\n",
    "the real dataset accident rate. (6 points)**\n",
    "\n",
    "**Hint: For this question, you can assume that the probability you calculated in Part\n",
    "2, Task 3.4 is the AV’s marginal (unconditional) accident rate per mile for the real\n",
    "CA DMV dataset. You can also assume that there is one cut-in scenario (run) per\n",
    "one mile in the simulation data.**\n",
    "\n",
    ">**a. Unfortunately, the real DMV only has sunny and cloudy weather:**\n",
    ">>**i. How would you make a reasonable comparison between the probability of\n",
    "an accident of the simulated dataset and the real dataset in this case? (1\n",
    "point)**"
   ]
  },
  {
   "cell_type": "markdown",
   "id": "0a56967e-973c-4c2b-a141-e4047b1118ae",
   "metadata": {},
   "source": [
    "remove rain and snow data points from simulated dataset"
   ]
  },
  {
   "cell_type": "markdown",
   "id": "78a0b6f9-1ce9-42e8-aea7-afa3ffb752d2",
   "metadata": {},
   "source": [
    ">>**ii. Compare the two probabilities and report your findings. (1 point)**"
   ]
  },
  {
   "cell_type": "code",
   "execution_count": 21,
   "id": "c7a06f69-b5ee-4345-b41c-e58b28fb4e64",
   "metadata": {},
   "outputs": [
    {
     "name": "stdout",
     "output_type": "stream",
     "text": [
      "0.01293589336572483\n"
     ]
    }
   ],
   "source": [
    "# p_slow_react = (P_rt_greater_given_clear*P_clear) + (P_rt_greater_given_cloudy*P_cloudy)\n",
    "# p_automatic_disengagement_per_mile = 0.0059\n",
    "\n",
    "# p_accident = p_automatic_disengagement_per_mile * p_slow_react\n",
    "# print(\"Probability of an accident: \",p_accident)\n",
    "\n",
    "# Probability of an accident:  0.0033509127789046653\n",
    "\n",
    "# TODO: remove rain and snow points from above and calculate probability\n",
    "\n",
    "p_clear_cali_norm = .8 / (p_clear_cali + p_cloudy_cali)\n",
    "p_cloudy_cali_norm = .13 / (p_clear_cali + p_cloudy_cali)\n",
    "p_accident_cali_clear_cloudy = (p_clear_cali_norm * p_accident_given_clear) + (p_cloudy_cali_norm * p_accident_given_cloudy)\n",
    "print(p_accident_cali_clear_cloudy)"
   ]
  },
  {
   "cell_type": "markdown",
   "id": "1db2b7a9-dc31-4011-96a5-97bf8908f0c7",
   "metadata": {},
   "source": [
    "sim is much higher"
   ]
  },
  {
   "cell_type": "markdown",
   "id": "ff99a56d-5c6a-4842-8882-59547d031d92",
   "metadata": {},
   "source": [
    ">**b. Suppose that there are k cut-in scenarios per one mile, and the probability of having\n",
    "an accident in one cut-in scenario is p. What is the probability to have at least one\n",
    "accident per one mile? State your reasoning in detail. (2 points)**"
   ]
  },
  {
   "cell_type": "markdown",
   "id": "6221d6d2-ecc6-44c4-b197-f7645d4783e4",
   "metadata": {},
   "source": [
    "Binomial\n",
    "1 - p^0(1-p)^k"
   ]
  },
  {
   "cell_type": "markdown",
   "id": "9ceba892-8341-4001-8048-a5a7be912e0a",
   "metadata": {},
   "source": [
    ">**c. Why do you think the probabilities of accident are so different between the\n",
    "simulation and the rea-world data? (1 point)**"
   ]
  },
  {
   "cell_type": "markdown",
   "id": "23cc515f-6449-4f06-bc79-213d0af21bf2",
   "metadata": {},
   "source": [
    "real world probabilty is calculated with an arbitrary reaction time\n",
    "rw: ASSUMING: disengagement + slow reaction ==> accident (always)\n",
    "rw: chance of disengagement .0020, \n",
    "\n",
    "the prior weather probabilities in the simulation probably do not match up at all to the real world\n",
    "simulation had equal distibution of weather conditions\n",
    "\n"
   ]
  },
  {
   "cell_type": "markdown",
   "id": "a41be153-b48e-44de-ad2e-1c6c5ace9d93",
   "metadata": {},
   "source": [
    "d. What are the pros and cons of the simulation data given the discrepancy\n",
    "between probability of accident in simulation and the real-world data? (1 point)"
   ]
  },
  {
   "cell_type": "markdown",
   "id": "06717723-7e0e-4d57-874f-c935dc1ad0dd",
   "metadata": {},
   "source": [
    "pros:\n",
    "\n",
    "simulation accounds for more varied weather conditions\n",
    "easier to generate simulation data\n",
    "can control other variables when collecting data\n",
    "\n",
    "\n",
    "cons:\n",
    "\n",
    "not directly translatable to real world scenario\n",
    "inacurate due to model assumptions that are not present in real world"
   ]
  },
  {
   "cell_type": "markdown",
   "id": "1b5ecb0d-7a8b-4702-ae48-5f8b1329015b",
   "metadata": {},
   "source": [
    "**4. What are your suggestions to improve MP1? What difficulties did you encounter? Please\n",
    "make sure each member individually (mentioning the member's name) lists their\n",
    "suggestions for improvements on that problem.**"
   ]
  },
  {
   "cell_type": "markdown",
   "id": "74ba84cd-2b3a-46a1-8185-6d3fa23692ba",
   "metadata": {},
   "source": [
    "Matthew Paul\n",
    "\n",
    ">Be more clear in part 1 which parts of the dataset to use in each question.\n",
    "\n",
    "Zach Larson\n",
    "\n",
    ">Give recomended resources and libraries.\n",
    "\n",
    "Máximo Rojas\n",
    "\n",
    ">Give template at start of MP instead of right before the deadline.\n"
   ]
  },
  {
   "cell_type": "code",
   "execution_count": null,
   "id": "6b0ffdb8-49b8-4678-b6be-2597249891d3",
   "metadata": {},
   "outputs": [],
   "source": []
  }
 ],
 "metadata": {
  "kernelspec": {
   "display_name": "Python 3 (ipykernel)",
   "language": "python",
   "name": "python3"
  },
  "language_info": {
   "codemirror_mode": {
    "name": "ipython",
    "version": 3
   },
   "file_extension": ".py",
   "mimetype": "text/x-python",
   "name": "python",
   "nbconvert_exporter": "python",
   "pygments_lexer": "ipython3",
   "version": "3.9.19"
  }
 },
 "nbformat": 4,
 "nbformat_minor": 5
}
